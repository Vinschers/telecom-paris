{
 "cells": [
  {
   "cell_type": "markdown",
   "id": "89f6f5cc-e740-4a4c-aebf-fd02941b9979",
   "metadata": {},
   "source": [
    "# Optimization for Machine Learning: Computer Lab 1\n",
    "\n",
    "## 2. Preprocessing the data\n",
    "\n",
    "Here, we load the data, standardize it, and set it in the appropriate shape for performing linear regression. You do not need to complete anything in this section; however it is important that you understand what the code is doing. See the pdf instructions for more details."
   ]
  },
  {
   "cell_type": "code",
   "execution_count": 1,
   "id": "47c5f011-294c-4aae-ad6d-ad866077e794",
   "metadata": {},
   "outputs": [],
   "source": [
    "import numpy as np\n",
    "import matplotlib.pyplot as plt"
   ]
  },
  {
   "cell_type": "code",
   "execution_count": 2,
   "id": "86e56b10-a3a7-4409-8bec-99330823b56c",
   "metadata": {},
   "outputs": [],
   "source": [
    "# Loading data\n",
    "data_matrix_train, COP_train, data_matrix_test, COP_test, names = np.load('../data_center_data_matrix.npy', allow_pickle=True)"
   ]
  },
  {
   "cell_type": "code",
   "execution_count": 3,
   "id": "4e5ab66b-88b9-48d4-92ae-78898c3407f3",
   "metadata": {},
   "outputs": [],
   "source": [
    "# centering and normalizing the matrix\n",
    "matrix_mean = np.mean(data_matrix_train, axis=0)\n",
    "M = data_matrix_train - matrix_mean\n",
    "\n",
    "matrix_std = np.std(M, axis=0)\n",
    "M = M / matrix_std\n"
   ]
  },
  {
   "cell_type": "code",
   "execution_count": 4,
   "id": "5375e38d-60ca-4a56-96d7-fe556916bd07",
   "metadata": {},
   "outputs": [
    {
     "data": {
      "text/plain": [
       "(722, 892)"
      ]
     },
     "execution_count": 4,
     "metadata": {},
     "output_type": "execute_result"
    }
   ],
   "source": [
    "M.shape\n"
   ]
  },
  {
   "cell_type": "code",
   "execution_count": 5,
   "id": "8581e0df",
   "metadata": {},
   "outputs": [
    {
     "data": {
      "text/plain": [
       "(722, 4)"
      ]
     },
     "execution_count": 5,
     "metadata": {},
     "output_type": "execute_result"
    }
   ],
   "source": [
    "COP_train.shape"
   ]
  },
  {
   "cell_type": "code",
   "execution_count": 6,
   "id": "eaf7580a",
   "metadata": {},
   "outputs": [
    {
     "data": {
      "text/plain": [
       "(361, 892)"
      ]
     },
     "execution_count": 6,
     "metadata": {},
     "output_type": "execute_result"
    }
   ],
   "source": [
    "data_matrix_test.shape"
   ]
  },
  {
   "cell_type": "code",
   "execution_count": 7,
   "id": "b78bed44-51b7-499c-83c3-7d31d137cd96",
   "metadata": {},
   "outputs": [
    {
     "name": "stdout",
     "output_type": "stream",
     "text": [
      "(722, 1785)\n",
      "(361, 1785)\n"
     ]
    }
   ],
   "source": [
    "# Building the corresponding matrices A,b for linear regression\n",
    "A = np.hstack([M, np.ones((M.shape[0],1)), -(M.T * COP_train[:,3]).T])\n",
    "b = COP_train[:,3]\n",
    "\n",
    "print(A.shape)\n",
    "\n",
    "\n",
    "# Building the same matrices for the test set\n",
    "M_test = (data_matrix_test - matrix_mean) / matrix_std\n",
    "A_test = np.hstack([M_test, np.ones((M_test.shape[0],1)), -(M_test.T * COP_test[:,3]).T])\n",
    "b_test = COP_test[:,3]\n",
    "\n",
    "print(A_test.shape)\n",
    "\n",
    "d = A.shape[1]"
   ]
  },
  {
   "cell_type": "markdown",
   "id": "5fc974f0-0eb1-46db-af33-b27f232bc4ec",
   "metadata": {},
   "source": [
    "## 3. Ordinary least squares\n",
    "\n",
    "We now wish to solve the problem\n",
    "$$\n",
    "\\min_{w \\in \\mathbb{R}^d} \\frac 12 \\|Aw-b\\|_2^2\n",
    "$$"
   ]
  },
  {
   "cell_type": "code",
   "execution_count": 8,
   "id": "47c243e3-5aab-4373-b10f-749278195663",
   "metadata": {},
   "outputs": [
    {
     "name": "stdout",
     "output_type": "stream",
     "text": [
      "(1785,)\n"
     ]
    }
   ],
   "source": [
    "## Question 3.2: solve with the numpy least squares solver\n",
    "\n",
    "# COMPLETE HERE\n",
    "w_least_squares = np.linalg.lstsq(A, b, rcond=None)[0]\n",
    "print(w_least_squares.shape)\n"
   ]
  },
  {
   "cell_type": "code",
   "execution_count": 9,
   "id": "ac547051-72eb-4973-a5bc-710d46189afe",
   "metadata": {},
   "outputs": [
    {
     "name": "stdout",
     "output_type": "stream",
     "text": [
      "Test error for least squares solution :  780.8984793523532\n"
     ]
    }
   ],
   "source": [
    "## Question 3.3\n",
    "\n",
    "# COMPLETE HERE\n",
    "test_error = (1/A_test.shape[0]) * np.linalg.norm(A_test @ w_least_squares - b_test)**2\n",
    "print(\"Test error for least squares solution : \", test_error)"
   ]
  },
  {
   "cell_type": "code",
   "execution_count": 10,
   "id": "471456f2",
   "metadata": {},
   "outputs": [
    {
     "name": "stdout",
     "output_type": "stream",
     "text": [
      "257.4800963181426\n",
      "257.4800963181426\n"
     ]
    }
   ],
   "source": [
    "x = np.array(\n",
    "    [89, 34, 56, 87, 90, 23, 45, 12, 65, 78, 9, 34, 12, 11, 2, 65, 78, 82, 28, 78]\n",
    ")\n",
    "norm = 0\n",
    "for v in x:\n",
    "    norm += v**2\n",
    "\n",
    "print(np.sqrt(norm))\n",
    "print(np.linalg.norm(x))"
   ]
  },
  {
   "cell_type": "code",
   "execution_count": 11,
   "id": "2a2ad389",
   "metadata": {},
   "outputs": [
    {
     "name": "stdout",
     "output_type": "stream",
     "text": [
      "[3 1]\n",
      "[[1 2]\n",
      " [0 1]]\n",
      "[[2 2]\n",
      " [0 1]]\n",
      "[[2 0]\n",
      " [0 1]]\n",
      "[[1 0]\n",
      " [2 1]]\n"
     ]
    }
   ],
   "source": [
    "Matrix1_test = np.array([[1,2],[0,1]])\n",
    "Matrix2_test = np.array([[2,0],[0,1]])\n",
    "vect_test = np.array([1,1])\n",
    "\n",
    "print(Matrix1_test @ vect_test)\n",
    "print(Matrix1_test * vect_test)\n",
    "\n",
    "print(Matrix1_test @ Matrix2_test)\n",
    "print(Matrix1_test * Matrix2_test)\n",
    "\n",
    "print(Matrix1_test.T)"
   ]
  },
  {
   "cell_type": "markdown",
   "id": "79e96422-8dcf-459f-ac5a-6bf1553df7c7",
   "metadata": {},
   "source": [
    "### Adding $\\ell_2$ regularization\n",
    "\n",
    "In order to improve the performance on the test set, we add $\\ell_2$ regularization:\n",
    "\n",
    "$$\n",
    "\\min_{w \\in \\mathbb{R}^d} \\frac 12 \\|Aw-b\\|_2^2 + \\frac \\lambda 2 \\|w\\|_2^2\n",
    "$$"
   ]
  },
  {
   "cell_type": "code",
   "execution_count": 12,
   "id": "4558f20d-252e-46ae-ac81-36d9bc1ba92a",
   "metadata": {},
   "outputs": [],
   "source": [
    "lambda_l2 = 1e4"
   ]
  },
  {
   "cell_type": "code",
   "execution_count": 13,
   "id": "e0e52bea-55d3-4a3c-8758-c8214eaa64e8",
   "metadata": {},
   "outputs": [],
   "source": [
    "# Question 3.5\n",
    "def f(w):\n",
    "    return 1/2 * np.linalg.norm(A@w - b)**2 + lambda_l2/2 *  np.linalg.norm(w)**2\n",
    "\n",
    "def grad_f(w):\n",
    "    return A.T @ (A @ w - b) + lambda_l2 * w\n",
    "\n",
    "def gradient_descent(func, w0, gamma, max_iter):\n",
    "    w = w0.copy()\n",
    "    \n",
    "    f_values = []\n",
    "    gradient_norms = []\n",
    "\n",
    "    for t in range(max_iter):\n",
    "        # COMPLETE HERE \n",
    "        w = w - gamma * grad_f(w)\n",
    "        \n",
    "        f_values.append(func(w))\n",
    "        gradient_norms.append(np.linalg.norm(grad_f(w)))\n",
    "        \n",
    "    return w, f_values, gradient_norms\n"
   ]
  },
  {
   "cell_type": "markdown",
   "id": "08b45d85-6ed0-4cc9-9759-69ee4cbb08f1",
   "metadata": {},
   "source": [
    "For finding the appropriate step size range, we need to estimate the Lipschitz constant of the gradient."
   ]
  },
  {
   "cell_type": "code",
   "execution_count": 14,
   "id": "92be2760-b2c4-408b-8c3c-309409c1e12c",
   "metadata": {},
   "outputs": [],
   "source": [
    "# COMPLETE HERE\n",
    "L_ = np.linalg.eigvals(A.T @ A - lambda_l2 * np.identity(A.shape[1]))\n",
    "L = np.abs(L_[0])"
   ]
  },
  {
   "cell_type": "code",
   "execution_count": 15,
   "id": "b911cf31-5f36-4caf-b18d-cb46c3f4eea1",
   "metadata": {},
   "outputs": [],
   "source": [
    "# COMPLETE HERE\n",
    "w0 = np.zeros(A.shape[1])\n",
    "step_size = 1/L\n",
    "max_iter = 4000\n",
    "\n",
    "w_GD, f_values_GD, gradient_norms_GD = gradient_descent(f, w0, step_size, max_iter)\n"
   ]
  },
  {
   "cell_type": "markdown",
   "id": "b213c567-b03f-4351-8bf4-21d1f2c529b0",
   "metadata": {},
   "source": [
    "We now compute the evolution of function values and gradient norm. "
   ]
  },
  {
   "cell_type": "code",
   "execution_count": 16,
   "id": "0ec7e77c-d8ef-40b2-b490-37a04d929d39",
   "metadata": {},
   "outputs": [
    {
     "data": {
      "text/plain": [
       "Text(0, 0.5, 'Function values')"
      ]
     },
     "execution_count": 16,
     "metadata": {},
     "output_type": "execute_result"
    },
    {
     "data": {
      "image/png": "[encoded data removed]",
      "text/plain": [
       "<Figure size 1200x400 with 2 Axes>"
      ]
     },
     "metadata": {},
     "output_type": "display_data"
    }
   ],
   "source": [
    "# let us plot the result \n",
    "fig, axes = plt.subplots(nrows=1, ncols=2, figsize=(12, 4))\n",
    "\n",
    "axes[0].plot(gradient_norms_GD)\n",
    "axes[0].semilogy()\n",
    "axes[0].set_ylabel(\"Gradient norm\")\n",
    "\n",
    "axes[1].plot(f_values_GD)\n",
    "axes[1].set_ylabel(\"Function values\")"
   ]
  },
  {
   "cell_type": "code",
   "execution_count": 17,
   "id": "996f65a6-4a51-49be-9398-16d77b3dfd8d",
   "metadata": {},
   "outputs": [
    {
     "name": "stdout",
     "output_type": "stream",
     "text": [
      "Test error for l2 penalized solution :  61.516746269369364\n"
     ]
    }
   ],
   "source": [
    "# Question 3.6 \n",
    "test_error_l2 = 1/A_test.shape[0] * np.linalg.norm(A_test @ w_GD - b_test)**2\n",
    "print(\"Test error for l2 penalized solution : \", test_error_l2)"
   ]
  },
  {
   "cell_type": "markdown",
   "id": "817f6aba-fb0f-4ba2-8fa2-2e6279947610",
   "metadata": {},
   "source": [
    "What do you observe ?"
   ]
  },
  {
   "cell_type": "markdown",
   "id": "8373ae96-3b06-433a-8d53-ac096c7f5fd7",
   "metadata": {},
   "source": [
    "For a faster algorithm, we could implement accelerated gradient descent."
   ]
  },
  {
   "cell_type": "code",
   "execution_count": 18,
   "id": "d28b336c-0cd5-4c8e-a1db-57fd49e63f5c",
   "metadata": {},
   "outputs": [],
   "source": [
    "# Question 3.7 (optional) \n",
    "\n",
    "def accelerated_gradient_descent(func, w0, gamma, max_iter):\n",
    "    w = w0.copy()\n",
    "    y_ = 0\n",
    "    \n",
    "    f_values = []\n",
    "    gradient_norms = []\n",
    "\n",
    "    for t in range(max_iter):\n",
    "        # COMPLETE HERE \n",
    "        y = w - gamma * grad_f(w)\n",
    "        w = y + t/(t+3) * (y - y_)\n",
    "        y_ = y\n",
    "        \n",
    "        f_values.append(f(w))\n",
    "        gradient_norms.append(np.linalg.norm(grad_f(w)))\n",
    "        \n",
    "    return w, f_values, gradient_norms"
   ]
  },
  {
   "cell_type": "code",
   "execution_count": 19,
   "id": "193e6bce-8df6-4672-8ecd-698f89f173c2",
   "metadata": {},
   "outputs": [
    {
     "name": "stdout",
     "output_type": "stream",
     "text": [
      "2326\n",
      "1075\n"
     ]
    }
   ],
   "source": [
    "# COMPLETE HERE\n",
    "w0 = np.zeros(A.shape[1])\n",
    "step_size = 1/L\n",
    "max_iter = 4000\n",
    "\n",
    "w_AGD, f_values_AGD, gradient_norms_AGD = accelerated_gradient_descent(f, w0, step_size, max_iter)\n",
    "\n",
    "\n",
    "index_grad_under1       = 0\n",
    "index_acc_grad_under1   = 0\n",
    "for i in range(len(f_values_GD)):\n",
    "    if gradient_norms_GD[i] < 1 and index_grad_under1 == 0:\n",
    "        index_grad_under1 = i\n",
    "    if gradient_norms_AGD[i] < 1 and index_acc_grad_under1 == 0:\n",
    "        index_acc_grad_under1 = i\n",
    "\n",
    "print(index_grad_under1)    \n",
    "print(index_acc_grad_under1)"
   ]
  },
  {
   "cell_type": "code",
   "execution_count": 20,
   "id": "4b48b2dd-0d6c-4875-9aca-1e19162a3b47",
   "metadata": {},
   "outputs": [
    {
     "data": {
      "text/plain": [
       "<matplotlib.legend.Legend at 0x1096a8550>"
      ]
     },
     "execution_count": 20,
     "metadata": {},
     "output_type": "execute_result"
    },
    {
     "data": {
      "image/png": "[encoded data removed]",
      "text/plain": [
       "<Figure size 1200x400 with 2 Axes>"
      ]
     },
     "metadata": {},
     "output_type": "display_data"
    }
   ],
   "source": [
    "# let us plot the result \n",
    "fig, axes = plt.subplots(nrows=1, ncols=2, figsize=(12, 4))\n",
    "\n",
    "axes[0].plot(gradient_norms_GD, label = \"gradient descent\")\n",
    "axes[0].plot(gradient_norms_AGD, label = \"accelerated gradient descent\")\n",
    "axes[0].semilogy()\n",
    "axes[0].set_ylabel(\"Gradient norm\")\n",
    "axes[0].legend()\n",
    "\n",
    "axes[1].plot(f_values_GD, label = \"gradient descent\")\n",
    "axes[1].plot(f_values_AGD, label = \"accelerated gradient descent\")\n",
    "axes[1].set_ylabel(\"Function values\")\n",
    "axes[1].legend()"
   ]
  },
  {
   "cell_type": "markdown",
   "id": "21d4b5f8-70e0-4261-8675-3427fa548a90",
   "metadata": {},
   "source": [
    "What do you observe regarding the convergence speed ?"
   ]
  },
  {
   "cell_type": "markdown",
   "id": "1a8d11cb-4fdf-4e35-b1b6-9f196492e4ca",
   "metadata": {},
   "source": [
    "## 4. Adding $\\ell_1$ regularization (Lasso)\n",
    "\n",
    "We now solve \n",
    "\n",
    "$$\n",
    "\\min_{w \\in \\mathbb{R}^d} \\frac 12 \\|Aw-b\\|_2^2 + \\lambda \\|w\\|_1\n",
    "$$"
   ]
  },
  {
   "cell_type": "code",
   "execution_count": 21,
   "id": "2c007196",
   "metadata": {},
   "outputs": [],
   "source": [
    "L_ = np.linalg.eigvals(A.T @ A)\n",
    "L = np.abs(L_[0])"
   ]
  },
  {
   "cell_type": "code",
   "execution_count": 22,
   "id": "80b1dd18-dcab-4647-ba26-a7d5267f77fc",
   "metadata": {},
   "outputs": [],
   "source": [
    "lambda_l1 = 1e3\n",
    "\n",
    "## Question 4.2\n",
    "def prox_l1(x, mu = 1.):\n",
    "    \"\"\"compute the proximal operator of mu * |x|_1\n",
    "    \"\"\"\n",
    "    return np.sign(x) * np.maximum(np.abs(x) - mu, 0)\n",
    "\n",
    "def F2(w):\n",
    "    return 1/2 * np.linalg.norm(A@w - b)**2 + lambda_l1 * np.linalg.norm(x, ord=1)\n",
    "\n",
    "def grad_f2(w):\n",
    "    return A.T @ (A @ w - b) \n",
    "\n",
    "\n",
    "def proximal_gradient_descent(func, w0, gamma, max_iter):\n",
    "    w = w0.copy()\n",
    "\n",
    "    f_values = []\n",
    "    gradient_norms = []\n",
    "\n",
    "    for t in range(max_iter):\n",
    "        w = prox_l1(w - gamma * grad_f2(w), gamma * lambda_l1)\n",
    "\n",
    "        f_values.append(F2(w))\n",
    "        gradient_norms.append(np.linalg.norm(grad_f2(w)))\n",
    "        \n",
    "    return w, f_values, gradient_norms"
   ]
  },
  {
   "cell_type": "code",
   "execution_count": 23,
   "id": "013e8e9d-3974-480c-8648-3dcf8b756bb7",
   "metadata": {},
   "outputs": [],
   "source": [
    "# COMPLETE HERE\n",
    "w0 = np.zeros(A.shape[1])\n",
    "step_size = 1/L\n",
    "max_iter = 4000\n",
    "\n",
    "w_PGD, f_values_PGD, gradient_norms_PGD = proximal_gradient_descent(F2, w0, step_size, max_iter)\n"
   ]
  },
  {
   "cell_type": "code",
   "execution_count": 24,
   "id": "0fa86b3b-bf34-4d0d-ab8e-c609fb3b530c",
   "metadata": {},
   "outputs": [
    {
     "name": "stdout",
     "output_type": "stream",
     "text": [
      "Test error for l1 penalized solution :  3.4196947803554605\n"
     ]
    }
   ],
   "source": [
    "# Question 4.3\n",
    "\n",
    "test_error_l1 = 1/A_test.shape[0] * np.linalg.norm(A_test @ w_PGD - b_test)**2\n",
    "print(\"Test error for l1 penalized solution : \", test_error_l1)"
   ]
  },
  {
   "cell_type": "markdown",
   "id": "d4485f91-4e46-462f-859c-ebfb40890115",
   "metadata": {},
   "source": [
    "Compare with the previous test errors. What do you observe?"
   ]
  },
  {
   "cell_type": "code",
   "execution_count": 25,
   "id": "94168091-be37-4878-807d-9ba9b3730046",
   "metadata": {},
   "outputs": [
    {
     "data": {
      "text/plain": [
       "<matplotlib.legend.Legend at 0x10b6f3750>"
      ]
     },
     "execution_count": 25,
     "metadata": {},
     "output_type": "execute_result"
    },
    {
     "data": {
      "image/png": "[encoded data removed]",
      "text/plain": [
       "<Figure size 640x480 with 1 Axes>"
      ]
     },
     "metadata": {},
     "output_type": "display_data"
    }
   ],
   "source": [
    "# Let us examine the solution\n",
    "plt.plot(w_PGD, label = \"l1 solution\")\n",
    "plt.plot(w_GD, label = \"l2 solution\")\n",
    "plt.legend()\n"
   ]
  },
  {
   "cell_type": "code",
   "execution_count": 26,
   "id": "b3f14129-9cd8-42af-9f4e-a892bf590135",
   "metadata": {},
   "outputs": [
    {
     "ename": "_IncompleteInputError",
     "evalue": "incomplete input (4278252193.py, line 4)",
     "output_type": "error",
     "traceback": [
      "\u001b[0;36m  Cell \u001b[0;32mIn[26], line 4\u001b[0;36m\u001b[0m\n\u001b[0;31m    #...\u001b[0m\n\u001b[0m        ^\u001b[0m\n\u001b[0;31m_IncompleteInputError\u001b[0m\u001b[0;31m:\u001b[0m incomplete input\n"
     ]
    }
   ],
   "source": [
    "# Question 4.4\n",
    "def proximal_gradient_descent_linesearch(func, w0, gamma, max_iter):\n",
    "    # COMPLETE HERE\n",
    "    #..."
   ]
  },
  {
   "cell_type": "markdown",
   "id": "2682484e-06db-428c-9cfa-b9255cf8e7db",
   "metadata": {},
   "source": [
    "## Tuning the penalization parameter\n",
    "\n",
    "How to find the best solution among all those that were comptued? How to choose the penalization parameter $\\lambda$?"
   ]
  },
  {
   "cell_type": "code",
   "execution_count": null,
   "id": "64a7f78b-ff3b-4a2a-a4df-b7028dd65912",
   "metadata": {},
   "outputs": [],
   "source": [
    "# Your method here..."
   ]
  }
 ],
 "metadata": {
  "kernelspec": {
   "display_name": "Python 3 (ipykernel)",
   "language": "python",
   "name": "python3"
  },
  "language_info": {
   "codemirror_mode": {
    "name": "ipython",
    "version": 3
   },
   "file_extension": ".py",
   "mimetype": "text/x-python",
   "name": "python",
   "nbconvert_exporter": "python",
   "pygments_lexer": "ipython3",
   "version": "3.13.1"
  }
 },
 "nbformat": 4,
 "nbformat_minor": 5
}
