{
 "cells": [
  {
   "cell_type": "code",
   "execution_count": 1,
   "id": "149938de",
   "metadata": {},
   "outputs": [],
   "source": [
    "import numpy as np\n",
    "import tensorflow as tf\n",
    "from tensorflow import keras\n",
    "from tensorflow.keras import layers\n",
    "import matplotlib.pyplot as plt\n",
    "from sklearn.metrics import classification_report"
   ]
  },
  {
   "cell_type": "code",
   "execution_count": 2,
   "id": "2493d562-f598-4f92-9692-5001c6f233c8",
   "metadata": {},
   "outputs": [
    {
     "name": "stdout",
     "output_type": "stream",
     "text": [
      "TensorFlow version: 2.16.2\n",
      "Is the GPU available? [PhysicalDevice(name='/physical_device:GPU:0', device_type='GPU')]\n",
      "Devices: [PhysicalDevice(name='/physical_device:CPU:0', device_type='CPU'), PhysicalDevice(name='/physical_device:GPU:0', device_type='GPU')]\n"
     ]
    }
   ],
   "source": [
    "# Check TensorFlow version\n",
    "print(\"TensorFlow version:\", tf.__version__)\n",
    "\n",
    "# Check for GPU availability\n",
    "print(\"Is the GPU available?\", tf.config.list_physical_devices('GPU'))\n",
    "\n",
    "# Get detailed device info\n",
    "print(\"Devices:\", tf.config.experimental.list_physical_devices())\n"
   ]
  },
  {
   "cell_type": "markdown",
   "id": "657ee878-16b7-46ab-811d-48aebc085cf1",
   "metadata": {},
   "source": [
    "# 1. Loading the data"
   ]
  },
  {
   "cell_type": "code",
   "execution_count": 3,
   "id": "9afc7a6a-14b1-4bf8-8cbf-f15d61a2c1ac",
   "metadata": {},
   "outputs": [],
   "source": [
    "train_data, test_data = tf.keras.datasets.mnist.load_data(path=\"mnist.npz\")\n",
    "x_train = train_data[0].reshape(-1,784).astype(float) / 255\n",
    "y_train = train_data[1]\n",
    "\n",
    "x_test = test_data[0].reshape(-1,784).astype(float) / 255\n",
    "y_test = test_data[1]"
   ]
  },
  {
   "cell_type": "code",
   "execution_count": 4,
   "id": "76f055f2-a9f7-4905-bab0-d2d53287b65e",
   "metadata": {},
   "outputs": [
    {
     "name": "stdout",
     "output_type": "stream",
     "text": [
      "label is 1\n"
     ]
    },
    {
     "data": {
      "text/plain": [
       "<matplotlib.image.AxesImage at 0x16342d010>"
      ]
     },
     "execution_count": 4,
     "metadata": {},
     "output_type": "execute_result"
    },
    {
     "data": {
      "image/png": "[encoded data removed]",
      "text/plain": [
       "<Figure size 640x480 with 1 Axes>"
      ]
     },
     "metadata": {},
     "output_type": "display_data"
    }
   ],
   "source": [
    "# exploring the data\n",
    "i = np.random.randint(y_train.size)\n",
    "\n",
    "print(\"label is\", y_train[i])\n",
    "plt.imshow(train_data[0][i], cmap='gray')"
   ]
  },
  {
   "cell_type": "markdown",
   "id": "8feee3fb-8b54-4cd2-8ee1-a003d1292f8a",
   "metadata": {},
   "source": [
    "# 2. Building the model\n",
    "\n",
    "We use Keras to build a fully-connected neural network.\n",
    "\n",
    "For more details, see https://keras.io/guides/training_with_built_in_methods/"
   ]
  },
  {
   "cell_type": "code",
   "execution_count": 5,
   "id": "4b521b78",
   "metadata": {},
   "outputs": [
    {
     "name": "stderr",
     "output_type": "stream",
     "text": [
      "2025-02-05 13:53:29.394673: I metal_plugin/src/device/metal_device.cc:1154] Metal device set to: Apple M3\n",
      "2025-02-05 13:53:29.394692: I metal_plugin/src/device/metal_device.cc:296] systemMemory: 16.00 GB\n",
      "2025-02-05 13:53:29.394697: I metal_plugin/src/device/metal_device.cc:313] maxCacheSize: 5.33 GB\n",
      "2025-02-05 13:53:29.394708: I tensorflow/core/common_runtime/pluggable_device/pluggable_device_factory.cc:305] Could not identify NUMA node of platform GPU ID 0, defaulting to 0. Your kernel may not have been built with NUMA support.\n",
      "2025-02-05 13:53:29.394716: I tensorflow/core/common_runtime/pluggable_device/pluggable_device_factory.cc:271] Created TensorFlow device (/job:localhost/replica:0/task:0/device:GPU:0 with 0 MB memory) -> physical PluggableDevice (device: 0, name: METAL, pci bus id: <undefined>)\n"
     ]
    },
    {
     "data": {
      "text/html": [
       "<pre style=\"white-space:pre;overflow-x:auto;line-height:normal;font-family:Menlo,'DejaVu Sans Mono',consolas,'Courier New',monospace\"><span style=\"font-weight: bold\">Model: \"mnist_model\"</span>\n",
       "</pre>\n"
      ],
      "text/plain": [
       "\u001b[1mModel: \"mnist_model\"\u001b[0m\n"
      ]
     },
     "metadata": {},
     "output_type": "display_data"
    },
    {
     "data": {
      "text/html": [
       "<pre style=\"white-space:pre;overflow-x:auto;line-height:normal;font-family:Menlo,'DejaVu Sans Mono',consolas,'Courier New',monospace\">┏━━━━━━━━━━━━━━━━━━━━━━━━━━━━━━━━━┳━━━━━━━━━━━━━━━━━━━━━━━━┳━━━━━━━━━━━━━━━┓\n",
       "┃<span style=\"font-weight: bold\"> Layer (type)                    </span>┃<span style=\"font-weight: bold\"> Output Shape           </span>┃<span style=\"font-weight: bold\">       Param # </span>┃\n",
       "┡━━━━━━━━━━━━━━━━━━━━━━━━━━━━━━━━━╇━━━━━━━━━━━━━━━━━━━━━━━━╇━━━━━━━━━━━━━━━┩\n",
       "│ digits (<span style=\"color: #0087ff; text-decoration-color: #0087ff\">InputLayer</span>)             │ (<span style=\"color: #00d7ff; text-decoration-color: #00d7ff\">None</span>, <span style=\"color: #00af00; text-decoration-color: #00af00\">784</span>)            │             <span style=\"color: #00af00; text-decoration-color: #00af00\">0</span> │\n",
       "├─────────────────────────────────┼────────────────────────┼───────────────┤\n",
       "│ dense_1 (<span style=\"color: #0087ff; text-decoration-color: #0087ff\">Dense</span>)                 │ (<span style=\"color: #00d7ff; text-decoration-color: #00d7ff\">None</span>, <span style=\"color: #00af00; text-decoration-color: #00af00\">32</span>)             │        <span style=\"color: #00af00; text-decoration-color: #00af00\">25,120</span> │\n",
       "├─────────────────────────────────┼────────────────────────┼───────────────┤\n",
       "│ dense_2 (<span style=\"color: #0087ff; text-decoration-color: #0087ff\">Dense</span>)                 │ (<span style=\"color: #00d7ff; text-decoration-color: #00d7ff\">None</span>, <span style=\"color: #00af00; text-decoration-color: #00af00\">32</span>)             │         <span style=\"color: #00af00; text-decoration-color: #00af00\">1,056</span> │\n",
       "├─────────────────────────────────┼────────────────────────┼───────────────┤\n",
       "│ predictions (<span style=\"color: #0087ff; text-decoration-color: #0087ff\">Dense</span>)             │ (<span style=\"color: #00d7ff; text-decoration-color: #00d7ff\">None</span>, <span style=\"color: #00af00; text-decoration-color: #00af00\">10</span>)             │           <span style=\"color: #00af00; text-decoration-color: #00af00\">330</span> │\n",
       "└─────────────────────────────────┴────────────────────────┴───────────────┘\n",
       "</pre>\n"
      ],
      "text/plain": [
       "┏━━━━━━━━━━━━━━━━━━━━━━━━━━━━━━━━━┳━━━━━━━━━━━━━━━━━━━━━━━━┳━━━━━━━━━━━━━━━┓\n",
       "┃\u001b[1m \u001b[0m\u001b[1mLayer (type)                   \u001b[0m\u001b[1m \u001b[0m┃\u001b[1m \u001b[0m\u001b[1mOutput Shape          \u001b[0m\u001b[1m \u001b[0m┃\u001b[1m \u001b[0m\u001b[1m      Param #\u001b[0m\u001b[1m \u001b[0m┃\n",
       "┡━━━━━━━━━━━━━━━━━━━━━━━━━━━━━━━━━╇━━━━━━━━━━━━━━━━━━━━━━━━╇━━━━━━━━━━━━━━━┩\n",
       "│ digits (\u001b[38;5;33mInputLayer\u001b[0m)             │ (\u001b[38;5;45mNone\u001b[0m, \u001b[38;5;34m784\u001b[0m)            │             \u001b[38;5;34m0\u001b[0m │\n",
       "├─────────────────────────────────┼────────────────────────┼───────────────┤\n",
       "│ dense_1 (\u001b[38;5;33mDense\u001b[0m)                 │ (\u001b[38;5;45mNone\u001b[0m, \u001b[38;5;34m32\u001b[0m)             │        \u001b[38;5;34m25,120\u001b[0m │\n",
       "├─────────────────────────────────┼────────────────────────┼───────────────┤\n",
       "│ dense_2 (\u001b[38;5;33mDense\u001b[0m)                 │ (\u001b[38;5;45mNone\u001b[0m, \u001b[38;5;34m32\u001b[0m)             │         \u001b[38;5;34m1,056\u001b[0m │\n",
       "├─────────────────────────────────┼────────────────────────┼───────────────┤\n",
       "│ predictions (\u001b[38;5;33mDense\u001b[0m)             │ (\u001b[38;5;45mNone\u001b[0m, \u001b[38;5;34m10\u001b[0m)             │           \u001b[38;5;34m330\u001b[0m │\n",
       "└─────────────────────────────────┴────────────────────────┴───────────────┘\n"
      ]
     },
     "metadata": {},
     "output_type": "display_data"
    },
    {
     "data": {
      "text/html": [
       "<pre style=\"white-space:pre;overflow-x:auto;line-height:normal;font-family:Menlo,'DejaVu Sans Mono',consolas,'Courier New',monospace\"><span style=\"font-weight: bold\"> Total params: </span><span style=\"color: #00af00; text-decoration-color: #00af00\">26,506</span> (103.54 KB)\n",
       "</pre>\n"
      ],
      "text/plain": [
       "\u001b[1m Total params: \u001b[0m\u001b[38;5;34m26,506\u001b[0m (103.54 KB)\n"
      ]
     },
     "metadata": {},
     "output_type": "display_data"
    },
    {
     "data": {
      "text/html": [
       "<pre style=\"white-space:pre;overflow-x:auto;line-height:normal;font-family:Menlo,'DejaVu Sans Mono',consolas,'Courier New',monospace\"><span style=\"font-weight: bold\"> Trainable params: </span><span style=\"color: #00af00; text-decoration-color: #00af00\">26,506</span> (103.54 KB)\n",
       "</pre>\n"
      ],
      "text/plain": [
       "\u001b[1m Trainable params: \u001b[0m\u001b[38;5;34m26,506\u001b[0m (103.54 KB)\n"
      ]
     },
     "metadata": {},
     "output_type": "display_data"
    },
    {
     "data": {
      "text/html": [
       "<pre style=\"white-space:pre;overflow-x:auto;line-height:normal;font-family:Menlo,'DejaVu Sans Mono',consolas,'Courier New',monospace\"><span style=\"font-weight: bold\"> Non-trainable params: </span><span style=\"color: #00af00; text-decoration-color: #00af00\">0</span> (0.00 B)\n",
       "</pre>\n"
      ],
      "text/plain": [
       "\u001b[1m Non-trainable params: \u001b[0m\u001b[38;5;34m0\u001b[0m (0.00 B)\n"
      ]
     },
     "metadata": {},
     "output_type": "display_data"
    }
   ],
   "source": [
    "# source : https://keras.io/guides/training_with_built_in_methods/\n",
    "\n",
    "def build_model():\n",
    "    inputs = keras.Input(shape=(784,), name=\"digits\")\n",
    "    x = layers.Dense(32, activation=\"relu\", name=\"dense_1\")(inputs)\n",
    "    x = layers.Dense(32, activation=\"relu\", name=\"dense_2\")(x)\n",
    "    outputs = layers.Dense(10, activation=\"softmax\", name=\"predictions\")(x)\n",
    "    \n",
    "    model = keras.Model(inputs=inputs, outputs=outputs, name=\"mnist_model\")\n",
    "    return model\n",
    "\n",
    "model = build_model()\n",
    "\n",
    "loss = keras.losses.sparse_categorical_crossentropy\n",
    "\n",
    "model.summary()"
   ]
  },
  {
   "cell_type": "code",
   "execution_count": 6,
   "id": "b18b6bdb",
   "metadata": {},
   "outputs": [
    {
     "data": {
      "text/plain": [
       "array([0, 8, 0, 8, 7, 8, 7, 5, 7, 0, 1, 8, 0, 8, 7, 0, 8, 8, 8, 0, 8, 0,\n",
       "       8, 8, 8, 8, 5, 8, 8, 7])"
      ]
     },
     "execution_count": 6,
     "metadata": {},
     "output_type": "execute_result"
    }
   ],
   "source": [
    "# untrained model\n",
    "predicted_probas = model(x_train)\n",
    "y_pred = np.argmax(predicted_probas, 1) # the prediction is the class with highest probability\n",
    "y_pred[0:30]"
   ]
  },
  {
   "cell_type": "code",
   "execution_count": 7,
   "id": "35d74f67",
   "metadata": {},
   "outputs": [
    {
     "data": {
      "text/plain": [
       "array([5, 0, 4, 1, 9, 2, 1, 3, 1, 4, 3, 5, 3, 6, 1, 7, 2, 8, 6, 9, 4, 0,\n",
       "       9, 1, 1, 2, 4, 3, 2, 7], dtype=uint8)"
      ]
     },
     "execution_count": 7,
     "metadata": {},
     "output_type": "execute_result"
    }
   ],
   "source": [
    "# what we would like to get\n",
    "y_train[0:30]"
   ]
  },
  {
   "cell_type": "markdown",
   "id": "a2c1255b-36d0-4d05-a5a0-fa9408742b56",
   "metadata": {},
   "source": [
    "# 3. Computing gradients\n",
    "\n",
    "We are now going to implement the stochastic gradient method using the Keras functionalities. \n",
    "\n",
    "First, we need to understand how to compute gradients using auto-differentation (also called **backpropagation**)."
   ]
  },
  {
   "cell_type": "code",
   "execution_count": 8,
   "id": "e7cbc050-6044-4149-9354-0d3870837d82",
   "metadata": {},
   "outputs": [],
   "source": [
    "# Source: https://keras.io/guides/writing_a_custom_training_loop_in_tensorflow/\n",
    "\n",
    "# Example of gradient computation using automatic differentiation\n",
    "\n",
    "# selecting a batch\n",
    "x_train_batch = x_train[:8]\n",
    "y_train_batch = y_train[:8]\n",
    "\n",
    "# Open a GradientTape to record the operations run\n",
    "# during the forward pass, which enables auto-differentiation.\n",
    "with tf.GradientTape() as tape:\n",
    "        # Run the forward pass of the layer.\n",
    "        # The operations that the layer applies\n",
    "        # to its inputs are going to be recorded\n",
    "        # on the GradientTape.\n",
    "    \n",
    "        logits = model(x_train_batch)  # Logits for this minibatch (the logits are the name we give to the Neural Network output)\n",
    "\n",
    "        # Compute the loss value for this minibatch.\n",
    "        loss_value = loss(y_train_batch, logits)\n",
    "\n",
    "# Use the gradient tape to automatically retrieve\n",
    "# the gradients of the trainable variables with respect to the loss.\n",
    "grad = tape.gradient(loss_value, model.trainable_weights)"
   ]
  },
  {
   "cell_type": "markdown",
   "id": "f2f189a1-5cec-4723-93fc-8693ec8d6a5c",
   "metadata": {},
   "source": [
    "We also define two important helper functions."
   ]
  },
  {
   "cell_type": "code",
   "execution_count": 9,
   "id": "dab2abd2-91e5-4b9e-a863-e1e3ea3dcd64",
   "metadata": {},
   "outputs": [],
   "source": [
    "## update the weights by adding real_factor * update\n",
    "def update_weights(model, update, real_factor = 1.):\n",
    "    new_weights = model.trainable_weights.copy()\n",
    "\n",
    "    # iterate over all layers\n",
    "    for i in range(len(new_weights)):\n",
    "        new_weights[i] = new_weights[i] + real_factor * update[i]\n",
    "        \n",
    "    model.set_weights(new_weights)\n",
    "\n",
    "\n",
    "# Evaluate model\n",
    "def mean_loss(model, X, Y):\n",
    "    logits = model(X)\n",
    "    return np.mean(loss(Y, logits))"
   ]
  },
  {
   "cell_type": "code",
   "execution_count": 10,
   "id": "9c11dcf5-bcd8-403b-ae60-41c755b5c5ec",
   "metadata": {},
   "outputs": [
    {
     "data": {
      "text/plain": [
       "2.3221262"
      ]
     },
     "execution_count": 10,
     "metadata": {},
     "output_type": "execute_result"
    }
   ],
   "source": [
    "# evaluating the train loss on the whole dataset\n",
    "# this is a costly operation, use sparsely\n",
    "mean_loss(model, x_train, y_train)"
   ]
  },
  {
   "cell_type": "markdown",
   "id": "ae0785ce-c5e2-4103-b4a8-1b10df2abf4d",
   "metadata": {},
   "source": [
    "# 4. Training the model"
   ]
  },
  {
   "cell_type": "markdown",
   "id": "c363384b-0cd5-4f75-b4d2-6c2ef712c6d8",
   "metadata": {},
   "source": [
    "### Question 4.1\n",
    "How many optimization variables are we going to train using this model?"
   ]
  },
  {
   "cell_type": "markdown",
   "id": "f27824da-c328-48d4-8352-ba80457ca652",
   "metadata": {},
   "source": [
    "**Answer**: We are optimizing 26.506 parameters (weights)."
   ]
  },
  {
   "cell_type": "markdown",
   "id": "33556de8-adc0-445e-8fee-fb5a166069cc",
   "metadata": {},
   "source": [
    "### Question 5.1\n",
    "Using the helper code, implement stochastic gradient descent.\n",
    "\n",
    "**Answer**: Below is the implementation of the mini-batch SGD. To run the regular SGD, we can simply set `epochs=1` and `batch_size=1`"
   ]
  },
  {
   "cell_type": "code",
   "execution_count": 11,
   "id": "246c8ebb-a57e-4548-a69c-338055cf04a4",
   "metadata": {
    "scrolled": true
   },
   "outputs": [],
   "source": [
    "# Stochastic gradient algorithm\n",
    "\n",
    "# TO IMPLEMENT\n",
    "def SGD(model, x_train, y_train, learning_rate, epochs=1, batch_size=1, delta_it=1_000):  \n",
    "    N = len(x_train)\n",
    "    loss_values = []\n",
    "    \n",
    "    for epoch in range(epochs):\n",
    "        idx = np.random.permutation(N)\n",
    "        x_train = x_train[idx]\n",
    "        y_train = y_train[idx]\n",
    "        \n",
    "        for k, batch in enumerate(range(0, N, batch_size)):\n",
    "            x_train_batch = x_train[batch:batch + batch_size]\n",
    "            y_train_batch = y_train[batch:batch + batch_size]\n",
    "            \n",
    "            with tf.GradientTape() as tape:\n",
    "                logits = model(x_train_batch)\n",
    "                loss_value = loss(y_train_batch, logits)\n",
    "                \n",
    "            grad = tape.gradient(loss_value, model.trainable_weights)\n",
    "            \n",
    "            gamma = - learning_rate / np.sqrt(k + 1)\n",
    "            update_weights(model, grad, gamma)\n",
    "\n",
    "            if k % delta_it == 0:\n",
    "                loss_values.append(mean_loss(model, x_train, y_train))\n",
    "        if epoch % 10 == 0:\n",
    "            print(epoch)\n",
    "\n",
    "    return loss_values"
   ]
  },
  {
   "cell_type": "code",
   "execution_count": 12,
   "id": "1e74ff8f-d4df-4d30-859d-5357b4788949",
   "metadata": {},
   "outputs": [],
   "source": [
    "def plot_loss(loss_values, delta_it):\n",
    "    losses = loss_values\n",
    "    plt.plot(np.arange(len(losses)) * delta_it, losses)\n",
    "    plt.show()\n",
    "\n",
    "    print(np.min(losses))\n",
    "\n",
    "\n",
    "def train_stats(model):\n",
    "    predicted_probas = model(x_train)\n",
    "    y_pred = np.argmax(predicted_probas, 1)\n",
    "\n",
    "    print(classification_report(y_train, y_pred))\n",
    "    \n",
    "\n",
    "def test_stats(model):\n",
    "    predicted_probas = model(x_test)\n",
    "    y_pred = np.argmax(predicted_probas, 1)\n",
    "\n",
    "    print(classification_report(y_test, y_pred))"
   ]
  },
  {
   "cell_type": "markdown",
   "id": "5e5176f3-fe46-4b40-9acb-f4162360430e",
   "metadata": {},
   "source": [
    "### Question 5.2\n",
    "\n",
    "Run it for one pass over the data (also called one epoch) and with a step size that satisfies\n",
    "the conditions required by theory.\n",
    "Plot the objective value as a function of the iterations. Compare different step size\n",
    "choices. What do you observe?"
   ]
  },
  {
   "cell_type": "code",
   "execution_count": 13,
   "id": "f2227a73-2df5-4b03-b5f5-b9e15da8efa0",
   "metadata": {},
   "outputs": [
    {
     "name": "stdout",
     "output_type": "stream",
     "text": [
      "0\n"
     ]
    },
    {
     "data": {
      "image/png": "[encoded data removed]",
      "text/plain": [
       "<Figure size 640x480 with 1 Axes>"
      ]
     },
     "metadata": {},
     "output_type": "display_data"
    },
    {
     "name": "stdout",
     "output_type": "stream",
     "text": [
      "2.3050783\n",
      "0\n"
     ]
    },
    {
     "data": {
      "image/png": "[encoded data removed]",
      "text/plain": [
       "<Figure size 640x480 with 1 Axes>"
      ]
     },
     "metadata": {},
     "output_type": "display_data"
    },
    {
     "name": "stdout",
     "output_type": "stream",
     "text": [
      "2.301594\n",
      "0\n"
     ]
    },
    {
     "data": {
      "image/png": "[encoded data removed]",
      "text/plain": [
       "<Figure size 640x480 with 1 Axes>"
      ]
     },
     "metadata": {},
     "output_type": "display_data"
    },
    {
     "name": "stdout",
     "output_type": "stream",
     "text": [
      "0.28365567\n",
      "0\n"
     ]
    },
    {
     "data": {
      "image/png": "[encoded data removed]",
      "text/plain": [
       "<Figure size 640x480 with 1 Axes>"
      ]
     },
     "metadata": {},
     "output_type": "display_data"
    },
    {
     "name": "stdout",
     "output_type": "stream",
     "text": [
      "0.79231656\n",
      "0\n"
     ]
    },
    {
     "data": {
      "image/png": "[encoded data removed]",
      "text/plain": [
       "<Figure size 640x480 with 1 Axes>"
      ]
     },
     "metadata": {},
     "output_type": "display_data"
    },
    {
     "name": "stdout",
     "output_type": "stream",
     "text": [
      "2.1648426\n"
     ]
    }
   ],
   "source": [
    "# initialize model\n",
    "delta_it = 1_000\n",
    "\n",
    "model = build_model()\n",
    "loss_values = SGD(model, x_train, y_train, 10, 1, 1, delta_it)\n",
    "plot_loss(loss_values, delta_it)\n",
    "\n",
    "model = build_model()\n",
    "loss_values = SGD(model, x_train, y_train, 1, 1, 1, delta_it)\n",
    "plot_loss(loss_values, delta_it)\n",
    "\n",
    "model = build_model()\n",
    "loss_values = SGD(model, x_train, y_train, 0.1, 1, 1, delta_it)\n",
    "plot_loss(loss_values, delta_it)\n",
    "\n",
    "model = build_model()\n",
    "loss_values = SGD(model, x_train, y_train, 0.01, 1, 1, delta_it)\n",
    "plot_loss(loss_values, delta_it)\n",
    "\n",
    "model = build_model()\n",
    "loss_values = SGD(model, x_train, y_train, 0.001, 1, 1, delta_it)\n",
    "plot_loss(loss_values, delta_it)"
   ]
  },
  {
   "cell_type": "markdown",
   "id": "50837d45-89f6-40a8-b354-0999ad3b7b4d",
   "metadata": {},
   "source": [
    "**Answer**: All executions converged after enough iterations. The best step size observed was $\\gamma = 0.1$."
   ]
  },
  {
   "cell_type": "markdown",
   "id": "0e4125af-9aaf-4757-b721-197e1fb4eb77",
   "metadata": {},
   "source": [
    "### Question 6.1\n",
    "\n",
    "Run stochastic gradient descent for 5 epochs and compare."
   ]
  },
  {
   "cell_type": "code",
   "execution_count": 14,
   "id": "f8909278-4bcd-4997-95fa-fcba0c60f22d",
   "metadata": {},
   "outputs": [
    {
     "name": "stdout",
     "output_type": "stream",
     "text": [
      "0\n"
     ]
    },
    {
     "data": {
      "image/png": "[encoded data removed]",
      "text/plain": [
       "<Figure size 640x480 with 1 Axes>"
      ]
     },
     "metadata": {},
     "output_type": "display_data"
    },
    {
     "name": "stdout",
     "output_type": "stream",
     "text": [
      "0.13692014\n"
     ]
    }
   ],
   "source": [
    "delta_it = 1_000\n",
    "\n",
    "gamma0 = 0.1\n",
    "\n",
    "model = build_model()\n",
    "loss_values = SGD(model, x_train, y_train, gamma0, 5, 1, delta_it)\n",
    "plot_loss(loss_values, delta_it)"
   ]
  },
  {
   "cell_type": "markdown",
   "id": "c3f6bc48-67fc-4daa-a35b-1f87bac57731",
   "metadata": {},
   "source": [
    "**Answer**: We see that the result obtained is even better. The small peaks in the loss function happen when a new epoch starts and the learning rate is restarted to $\\gamma_0$."
   ]
  },
  {
   "cell_type": "markdown",
   "id": "647e59b5-b2b7-46fa-8c09-9a8e5fb1b840",
   "metadata": {},
   "source": [
    "### Question 6.2\n",
    "According to you, what is the advantage of such a scheme?\n",
    "\n",
    "**Answer**: We know that the estimator of the gradient of $F$ is unbiased, but by using more data, we reduce the variance of this estimator, i.e., the quadratic risk."
   ]
  },
  {
   "cell_type": "markdown",
   "id": "2a69f2e4-f795-4723-9d54-23d236e16594",
   "metadata": {},
   "source": [
    "### Question 6.3\n",
    "\n",
    "Implement mini-batch stochastic gradient descent and compare."
   ]
  },
  {
   "cell_type": "code",
   "execution_count": 15,
   "id": "79465229-cdc5-47d2-9a01-ad10f01132b1",
   "metadata": {},
   "outputs": [
    {
     "name": "stdout",
     "output_type": "stream",
     "text": [
      "0\n",
      "10\n",
      "20\n",
      "30\n"
     ]
    }
   ],
   "source": [
    "# initialize model\n",
    "model = build_model()\n",
    "\n",
    "gamma0 = 0.004\n",
    "epochs = 36\n",
    "batch_size = 120\n",
    "\n",
    "delta_it = 1_000\n",
    "\n",
    "# run SGD\n",
    "loss_values = SGD(model, x_train, y_train, gamma0, epochs, batch_size, delta_it)"
   ]
  },
  {
   "cell_type": "code",
   "execution_count": 16,
   "id": "fbe424f0-0605-46aa-a4f4-89ac97b8358d",
   "metadata": {},
   "outputs": [
    {
     "name": "stdout",
     "output_type": "stream",
     "text": [
      "0.08375887\n"
     ]
    },
    {
     "data": {
      "image/png": "[encoded data removed]",
      "text/plain": [
       "<Figure size 640x480 with 1 Axes>"
      ]
     },
     "metadata": {},
     "output_type": "display_data"
    }
   ],
   "source": [
    "losses = loss_values\n",
    "plt.plot(np.arange(len(losses)) * delta_it, losses)\n",
    "\n",
    "print(np.min(losses))"
   ]
  },
  {
   "cell_type": "markdown",
   "id": "8d4ba063-0af8-43b7-bd40-7b9993a6cdc7",
   "metadata": {},
   "source": [
    "**Answer**: As we can see through the metric, the mini-batch SGD performs better than previous models."
   ]
  },
  {
   "cell_type": "code",
   "execution_count": 17,
   "id": "35e587d5-4044-4a9c-9e83-6194c0c1eaef",
   "metadata": {},
   "outputs": [
    {
     "name": "stdout",
     "output_type": "stream",
     "text": [
      "              precision    recall  f1-score   support\n",
      "\n",
      "           0       0.99      0.99      0.99      5923\n",
      "           1       0.99      0.99      0.99      6742\n",
      "           2       0.98      0.98      0.98      5958\n",
      "           3       0.98      0.97      0.98      6131\n",
      "           4       0.98      0.98      0.98      5842\n",
      "           5       0.98      0.98      0.98      5421\n",
      "           6       0.98      0.99      0.99      5918\n",
      "           7       0.99      0.98      0.99      6265\n",
      "           8       0.98      0.97      0.98      5851\n",
      "           9       0.97      0.98      0.97      5949\n",
      "\n",
      "    accuracy                           0.98     60000\n",
      "   macro avg       0.98      0.98      0.98     60000\n",
      "weighted avg       0.98      0.98      0.98     60000\n",
      "\n",
      "              precision    recall  f1-score   support\n",
      "\n",
      "           0       0.97      0.98      0.98       980\n",
      "           1       0.98      0.99      0.99      1135\n",
      "           2       0.96      0.97      0.96      1032\n",
      "           3       0.96      0.96      0.96      1010\n",
      "           4       0.97      0.97      0.97       982\n",
      "           5       0.97      0.96      0.96       892\n",
      "           6       0.97      0.97      0.97       958\n",
      "           7       0.97      0.96      0.97      1028\n",
      "           8       0.96      0.96      0.96       974\n",
      "           9       0.96      0.95      0.96      1009\n",
      "\n",
      "    accuracy                           0.97     10000\n",
      "   macro avg       0.97      0.97      0.97     10000\n",
      "weighted avg       0.97      0.97      0.97     10000\n",
      "\n"
     ]
    }
   ],
   "source": [
    "train_stats(model)\n",
    "\n",
    "test_stats(model)"
   ]
  }
 ],
 "metadata": {
  "kernelspec": {
   "display_name": "Python (optimization-ml)",
   "language": "python",
   "name": "optimization-ml"
  },
  "language_info": {
   "codemirror_mode": {
    "name": "ipython",
    "version": 3
   },
   "file_extension": ".py",
   "mimetype": "text/x-python",
   "name": "python",
   "nbconvert_exporter": "python",
   "pygments_lexer": "ipython3",
   "version": "3.11.11"
  }
 },
 "nbformat": 4,
 "nbformat_minor": 5
}
