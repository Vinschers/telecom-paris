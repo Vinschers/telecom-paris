{
 "cells": [
  {
   "cell_type": "code",
   "execution_count": 1,
   "id": "eeb09163-6c0e-43cc-89b6-d50e97302743",
   "metadata": {},
   "outputs": [],
   "source": [
    "from sklearn import tree\n",
    "from sklearn.datasets import load_iris\n",
    "import pydot\n",
    "import numpy as np\n",
    "import random\n",
    "from numpy.random import RandomState\n",
    "from scipy import stats\n",
    "import math\n",
    "import graphviz\n",
    "from pandas import read_csv\n",
    "import matplotlib.pyplot as plt\n",
    "from six import StringIO\n",
    "import pydot\n",
    "import graphviz\n",
    "\n",
    "import pydot"
   ]
  },
  {
   "cell_type": "code",
   "execution_count": 2,
   "id": "0ee3f5f8-d617-46cb-adc3-47f3bf3810d8",
   "metadata": {},
   "outputs": [],
   "source": [
    "column_names = ['ra', 'dec', 'u', 'g', 'r', 'i', 'z', 'run', 'rerun', 'camcol', 'field', 'specobjid', 'redshift', 'plate', 'mjd', 'fiberid']\n",
    "class_names = ['star', 'galaxy', 'quasar']"
   ]
  },
  {
   "cell_type": "code",
   "execution_count": 3,
   "id": "dbb38eaf-9de6-4fd5-b062-bf2c1a2b8667",
   "metadata": {},
   "outputs": [],
   "source": [
    "X = read_csv(\"skysurvey/training_data.csv\", names=column_names)\n",
    "Y = read_csv(\"skysurvey/training_class.csv\", names=['class'])"
   ]
  },
  {
   "cell_type": "code",
   "execution_count": 64,
   "id": "a6f26bc9-d3b4-4a6d-8d70-f0d3bd9c463c",
   "metadata": {},
   "outputs": [
    {
     "data": {
      "text/html": [
       "<div>\n",
       "<style scoped>\n",
       "    .dataframe tbody tr th:only-of-type {\n",
       "        vertical-align: middle;\n",
       "    }\n",
       "\n",
       "    .dataframe tbody tr th {\n",
       "        vertical-align: top;\n",
       "    }\n",
       "\n",
       "    .dataframe thead th {\n",
       "        text-align: right;\n",
       "    }\n",
       "</style>\n",
       "<table border=\"1\" class=\"dataframe\">\n",
       "  <thead>\n",
       "    <tr style=\"text-align: right;\">\n",
       "      <th></th>\n",
       "      <th>ra</th>\n",
       "      <th>dec</th>\n",
       "      <th>u</th>\n",
       "      <th>g</th>\n",
       "      <th>r</th>\n",
       "      <th>i</th>\n",
       "      <th>z</th>\n",
       "      <th>run</th>\n",
       "      <th>rerun</th>\n",
       "      <th>camcol</th>\n",
       "      <th>field</th>\n",
       "      <th>specobjid</th>\n",
       "      <th>redshift</th>\n",
       "      <th>plate</th>\n",
       "      <th>mjd</th>\n",
       "      <th>fiberid</th>\n",
       "    </tr>\n",
       "  </thead>\n",
       "  <tbody>\n",
       "    <tr>\n",
       "      <th>0</th>\n",
       "      <td>183.531326</td>\n",
       "      <td>0.089693</td>\n",
       "      <td>19.47406</td>\n",
       "      <td>17.04240</td>\n",
       "      <td>15.94699</td>\n",
       "      <td>15.50342</td>\n",
       "      <td>15.22531</td>\n",
       "      <td>752</td>\n",
       "      <td>301</td>\n",
       "      <td>4</td>\n",
       "      <td>267</td>\n",
       "      <td>3722360139651588096</td>\n",
       "      <td>-0.000009</td>\n",
       "      <td>3306</td>\n",
       "      <td>54922</td>\n",
       "      <td>491</td>\n",
       "    </tr>\n",
       "    <tr>\n",
       "      <th>1</th>\n",
       "      <td>183.598371</td>\n",
       "      <td>0.135285</td>\n",
       "      <td>18.66280</td>\n",
       "      <td>17.21449</td>\n",
       "      <td>16.67637</td>\n",
       "      <td>16.48922</td>\n",
       "      <td>16.39150</td>\n",
       "      <td>752</td>\n",
       "      <td>301</td>\n",
       "      <td>4</td>\n",
       "      <td>267</td>\n",
       "      <td>363814405953054720</td>\n",
       "      <td>-0.000055</td>\n",
       "      <td>323</td>\n",
       "      <td>51615</td>\n",
       "      <td>541</td>\n",
       "    </tr>\n",
       "    <tr>\n",
       "      <th>2</th>\n",
       "      <td>183.680207</td>\n",
       "      <td>0.126185</td>\n",
       "      <td>19.38298</td>\n",
       "      <td>18.19169</td>\n",
       "      <td>17.47428</td>\n",
       "      <td>17.08732</td>\n",
       "      <td>16.80125</td>\n",
       "      <td>752</td>\n",
       "      <td>301</td>\n",
       "      <td>4</td>\n",
       "      <td>268</td>\n",
       "      <td>323274319570429952</td>\n",
       "      <td>0.123111</td>\n",
       "      <td>287</td>\n",
       "      <td>52023</td>\n",
       "      <td>513</td>\n",
       "    </tr>\n",
       "    <tr>\n",
       "      <th>3</th>\n",
       "      <td>183.870529</td>\n",
       "      <td>0.049911</td>\n",
       "      <td>17.76536</td>\n",
       "      <td>16.60272</td>\n",
       "      <td>16.16116</td>\n",
       "      <td>15.98233</td>\n",
       "      <td>15.90438</td>\n",
       "      <td>752</td>\n",
       "      <td>301</td>\n",
       "      <td>4</td>\n",
       "      <td>269</td>\n",
       "      <td>3722365362331820032</td>\n",
       "      <td>-0.000111</td>\n",
       "      <td>3306</td>\n",
       "      <td>54922</td>\n",
       "      <td>510</td>\n",
       "    </tr>\n",
       "    <tr>\n",
       "      <th>4</th>\n",
       "      <td>183.883288</td>\n",
       "      <td>0.102557</td>\n",
       "      <td>17.55025</td>\n",
       "      <td>16.26342</td>\n",
       "      <td>16.43869</td>\n",
       "      <td>16.55492</td>\n",
       "      <td>16.61326</td>\n",
       "      <td>752</td>\n",
       "      <td>301</td>\n",
       "      <td>4</td>\n",
       "      <td>269</td>\n",
       "      <td>3722365912087633920</td>\n",
       "      <td>0.000590</td>\n",
       "      <td>3306</td>\n",
       "      <td>54922</td>\n",
       "      <td>512</td>\n",
       "    </tr>\n",
       "  </tbody>\n",
       "</table>\n",
       "</div>"
      ],
      "text/plain": [
       "           ra       dec         u         g         r         i         z  \\\n",
       "0  183.531326  0.089693  19.47406  17.04240  15.94699  15.50342  15.22531   \n",
       "1  183.598371  0.135285  18.66280  17.21449  16.67637  16.48922  16.39150   \n",
       "2  183.680207  0.126185  19.38298  18.19169  17.47428  17.08732  16.80125   \n",
       "3  183.870529  0.049911  17.76536  16.60272  16.16116  15.98233  15.90438   \n",
       "4  183.883288  0.102557  17.55025  16.26342  16.43869  16.55492  16.61326   \n",
       "\n",
       "   run  rerun  camcol  field            specobjid  redshift  plate    mjd  \\\n",
       "0  752    301       4    267  3722360139651588096 -0.000009   3306  54922   \n",
       "1  752    301       4    267   363814405953054720 -0.000055    323  51615   \n",
       "2  752    301       4    268   323274319570429952  0.123111    287  52023   \n",
       "3  752    301       4    269  3722365362331820032 -0.000111   3306  54922   \n",
       "4  752    301       4    269  3722365912087633920  0.000590   3306  54922   \n",
       "\n",
       "   fiberid  \n",
       "0      491  \n",
       "1      541  \n",
       "2      513  \n",
       "3      510  \n",
       "4      512  "
      ]
     },
     "execution_count": 64,
     "metadata": {},
     "output_type": "execute_result"
    }
   ],
   "source": [
    "X.head()"
   ]
  },
  {
   "cell_type": "code",
   "execution_count": 9,
   "id": "158f8db3-852f-4b47-b448-906853340428",
   "metadata": {},
   "outputs": [],
   "source": [
    "def show_tree(dtc):\n",
    "    dot_data = tree.export_graphviz(dtc, out_file=None,\n",
    "                         feature_names=column_names,  \n",
    "                         class_names=class_names,  \n",
    "                         filled=True, rounded=True,  \n",
    "                         special_characters=True)  \n",
    "\n",
    "    graphv = graphviz.Source(dot_data)\n",
    "    \n",
    "    dot_data = StringIO()\n",
    "    tree.export_graphviz(dtc, out_file=dot_data, feature_names=column_names,  \n",
    "                         class_names=class_names,  \n",
    "                         filled=True, rounded=True,  \n",
    "                         special_characters=True  \n",
    "                    )\n",
    "    graph = pydot.graph_from_dot_data(dot_data.getvalue())\n",
    "    graph[0].write_pdf(\"tp.pdf\")"
   ]
  },
  {
   "cell_type": "markdown",
   "id": "410a7cff-ab46-4cf5-8f7a-626ad8cf322a",
   "metadata": {},
   "source": [
    "# Question 1"
   ]
  },
  {
   "cell_type": "code",
   "execution_count": 49,
   "id": "fb77c0b8-3b4f-4f75-94d3-1ded42c71b04",
   "metadata": {},
   "outputs": [],
   "source": [
    "dtc = tree.DecisionTreeClassifier(criterion='gini', min_samples_leaf=0.01, random_state=RandomState(2018))\n",
    "dtc = dtc.fit(X, Y)\n",
    "show_tree(dtc)"
   ]
  },
  {
   "cell_type": "markdown",
   "id": "d19cf3cb-6e93-4889-b41d-0ebe4d32fd52",
   "metadata": {},
   "source": [
    "# Question 2"
   ]
  },
  {
   "cell_type": "code",
   "execution_count": 54,
   "id": "042d41b5-2e1b-480a-8bf9-636002eb1b70",
   "metadata": {},
   "outputs": [
    {
     "data": {
      "text/plain": [
       "np.float64(0.0127)"
      ]
     },
     "execution_count": 54,
     "metadata": {},
     "output_type": "execute_result"
    }
   ],
   "source": [
    "def generalization_error(dtc, X, Y, alpha=0.5):\n",
    "    N = X.shape[0]\n",
    "    \n",
    "    leaves = np.sum(dtc.tree_.children_left == -1)\n",
    "    errors = np.round((1 - dtc.score(X, Y)) * N)\n",
    "    gen_error = (leaves * alpha + errors) / N\n",
    "    \n",
    "    return gen_error\n",
    "\n",
    "generalization_error(dtc, X, Y)"
   ]
  },
  {
   "cell_type": "markdown",
   "id": "c81473fa-fac8-43ae-86ff-8c7f25ada0bd",
   "metadata": {},
   "source": [
    "# Question 3"
   ]
  },
  {
   "cell_type": "code",
   "execution_count": 55,
   "id": "f67475c3-2681-4807-85a2-dd47eb57c354",
   "metadata": {},
   "outputs": [
    {
     "data": {
      "text/plain": [
       "[<matplotlib.lines.Line2D at 0x11bc15100>]"
      ]
     },
     "execution_count": 55,
     "metadata": {},
     "output_type": "execute_result"
    },
    {
     "data": {
      "image/png": "[encoded data removed]",
      "text/plain": [
       "<Figure size 640x480 with 1 Axes>"
      ]
     },
     "metadata": {},
     "output_type": "display_data"
    }
   ],
   "source": [
    "errors = [0] * 12\n",
    "\n",
    "for md in range(1, len(errors) + 1):\n",
    "    dtc = tree.DecisionTreeClassifier(criterion='gini', min_samples_leaf=0.01, random_state=RandomState(2018), max_depth=md)\n",
    "    dtc = dtc.fit(X, Y)\n",
    "    errors[md - 1] = generalization_error(dtc, X, Y)\n",
    "\n",
    "plt.plot(range(2, len(errors) + 1), errors[1:])"
   ]
  },
  {
   "cell_type": "code",
   "execution_count": 56,
   "id": "046736b2-01c9-4af9-9918-579995c07bc7",
   "metadata": {},
   "outputs": [],
   "source": [
    "dtc = tree.DecisionTreeClassifier(criterion='gini', min_samples_leaf=0.01, random_state=RandomState(2018), max_depth=2)\n",
    "dtc = dtc.fit(X, Y)\n",
    "show_tree(dtc)"
   ]
  },
  {
   "cell_type": "markdown",
   "id": "91f7ae17-5f96-4862-803f-be49582a3066",
   "metadata": {},
   "source": [
    "# Question 4"
   ]
  },
  {
   "cell_type": "markdown",
   "id": "c63d07eb-becc-47bb-8193-71b36420ee56",
   "metadata": {},
   "source": [
    "Decision tree from exercise 3 is best because its error is smaller and much simpler."
   ]
  },
  {
   "cell_type": "markdown",
   "id": "02f45ece-8724-431d-844f-263bc788ce10",
   "metadata": {},
   "source": [
    "# Question 5"
   ]
  },
  {
   "cell_type": "code",
   "execution_count": 40,
   "id": "69ee805b-3319-4be3-ae0f-c2591d61a224",
   "metadata": {},
   "outputs": [
    {
     "name": "stdout",
     "output_type": "stream",
     "text": [
      "quasar\n",
      "quasar\n"
     ]
    }
   ],
   "source": [
    "i = 17\n",
    "xi = X.take([i])\n",
    "print(class_names[int(dtc.predict(xi)[0])])\n",
    "print(class_names[Y.iloc[i]['class']])"
   ]
  },
  {
   "cell_type": "markdown",
   "id": "15618028-42bd-4217-9dbe-7f41b7b72ca7",
   "metadata": {},
   "source": [
    "The redshift is the most relevant attribute."
   ]
  },
  {
   "cell_type": "markdown",
   "id": "7c059651-9a23-4f19-bac2-821f539363b9",
   "metadata": {},
   "source": [
    "# Question 6"
   ]
  },
  {
   "cell_type": "markdown",
   "id": "8b5cd60c-3e8b-4742-bd59-b833607afcd4",
   "metadata": {},
   "source": [
    "The tree could be further pruned to reduce the star classes to a single leaf node."
   ]
  },
  {
   "cell_type": "markdown",
   "id": "71d9c50f-9c42-4100-b276-803750e95e1f",
   "metadata": {},
   "source": [
    "# Question 7"
   ]
  },
  {
   "cell_type": "code",
   "execution_count": 63,
   "id": "3f8676e5-c498-4c93-b061-cce91f1a8e87",
   "metadata": {},
   "outputs": [],
   "source": [
    "def post_prune(self):\n",
    "    tree = self.tree_\n",
    "    left, right, values = tree.children_left, tree.children_right, tree.value\n",
    "\n",
    "dtc.post_prune = post_prune.__get__(dtc)"
   ]
  },
  {
   "cell_type": "code",
   "execution_count": 62,
   "id": "ba73a51d-a396-4351-b4bf-0422c3840e37",
   "metadata": {},
   "outputs": [],
   "source": [
    "dtc.post_prune()"
   ]
  }
 ],
 "metadata": {
  "kernelspec": {
   "display_name": "Python 3 (ipykernel)",
   "language": "python",
   "name": "python3"
  },
  "language_info": {
   "codemirror_mode": {
    "name": "ipython",
    "version": 3
   },
   "file_extension": ".py",
   "mimetype": "text/x-python",
   "name": "python",
   "nbconvert_exporter": "python",
   "pygments_lexer": "ipython3",
   "version": "3.12.7"
  }
 },
 "nbformat": 4,
 "nbformat_minor": 5
}
